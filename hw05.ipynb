{
 "cells": [
  {
   "cell_type": "markdown",
   "id": "f25056fc-44dd-4baa-88ff-b2e879a9d2c4",
   "metadata": {},
   "source": [
    "# BEE 4750 Homework 5: Mixed Integer and Stochastic Programming\n",
    "\n",
    "**Name**: Jiaming Yuan (jy729), Ari Schor (aes392), Grace Raab (gar238)\n",
    "\n",
    "**ID**:\n",
    "\n",
    "> **Due Date**\n",
    ">\n",
    "> Thursday, 12/05/24, 9:00pm\n",
    "\n",
    "## Overview"
   ]
  },
  {
   "cell_type": "markdown",
   "id": "bdc61f0a-d224-4e85-9d0f-dc78118e17b2",
   "metadata": {},
   "source": [
    "### Instructions\n",
    "\n",
    "-   In Problem 1, you will use mixed integer programming to solve a\n",
    "    waste load allocation problem."
   ]
  },
  {
   "cell_type": "markdown",
   "id": "f28855a0-60d2-442e-b8ef-1ceaee826af6",
   "metadata": {},
   "source": [
    "### Load Environment\n",
    "\n",
    "The following code loads the environment and makes sure all needed\n",
    "packages are installed. This should be at the start of most Julia\n",
    "scripts."
   ]
  },
  {
   "cell_type": "code",
   "execution_count": 12,
   "id": "2",
   "metadata": {},
   "outputs": [
    {
     "name": "stderr",
     "output_type": "stream",
     "text": [
      "\u001b[32m\u001b[1m  Activating\u001b[22m\u001b[39m project at `c:\\Users\\grcra\\OneDrive\\Desktop\\FA24\\BEE4750\\hw5-ari-j`\n"
     ]
    }
   ],
   "source": [
    "import Pkg\n",
    "Pkg.activate(@__DIR__)\n",
    "Pkg.instantiate()"
   ]
  },
  {
   "cell_type": "code",
   "execution_count": 13,
   "id": "4",
   "metadata": {},
   "outputs": [],
   "source": [
    "using JuMP\n",
    "using HiGHS\n",
    "using DataFrames\n",
    "using GraphRecipes\n",
    "using Plots\n",
    "using Measures\n",
    "using MarkdownTables"
   ]
  },
  {
   "cell_type": "markdown",
   "id": "7cd4181d-a987-4e3a-8dad-cfdef5fb6270",
   "metadata": {},
   "source": [
    "## Problems (Total: 30 Points)\n",
    "\n",
    "### Problem 1 (30 points)\n",
    "\n",
    "Three cities are developing a coordinated municipal solid waste (MSW)\n",
    "disposal plan. Three disposal alternatives are being considered: a\n",
    "landfill (LF), a materials recycling facility (MRF), and a\n",
    "waste-to-energy facility (WTE). The capacities of these facilities and\n",
    "the fees for operation and disposal are provided below.\n",
    "\n",
    "-   **LF**: Capacity 200 Mg, fixed cost \\$2000/day, tipping cost\n",
    "    \\$50/Mg;\n",
    "-   **MRF**: Capacity 350 Mg, fixed cost \\$1500/day, tipping cost\n",
    "    \\$7/Mg, recycling cost \\$40/Mg recycled;\n",
    "-   **WTE**: Capacity 210 Mg, fixed cost \\$2500/day, tipping cost\n",
    "    \\$60/Mg;\n",
    "\n",
    "The MRF recycling rate is 40%, and the ash fraction of non-recycled\n",
    "waste is 16% and of recycled waste is 14%. Transportation costs are\n",
    "\\$1.5/Mg-km, and the relative distances between the cities and\n",
    "facilities are provided in the table below.\n",
    "\n",
    "| **City/Facility** | **Landfill (km)** | **MRF (km)** | **WTE (km)** |\n",
    "|:-----------------:|:-----------------:|:------------:|:------------:|\n",
    "|         1         |         5         |      30      |      15      |\n",
    "|         2         |        15         |      25      |      10      |\n",
    "|         3         |        13         |      45      |      20      |\n",
    "|        LF         |        \\-         |      32      |      18      |\n",
    "|        MRF        |        32         |      \\-      |      15      |\n",
    "|        WTE        |        18         |      15      |      \\-      |\n",
    "\n",
    "The fixed costs associated with the disposal options are incurred only\n",
    "if the particular disposal option is implemented. The three cities\n",
    "produce 100, 90, and 120 Mg/day of solid waste, respectively, with the\n",
    "composition provided in the table below.\n",
    "\n",
    "**Reminder**: Use `round(x; digits=n)` to report values to the\n",
    "appropriate precision!\n",
    "\n",
    "**In this problem**:\n",
    "\n",
    "-   Formulate the waste load allocation problem and implement it in\n",
    "    `JuMP`.\n",
    "-   Draw a diagram showing the flows of waste between the cities and the\n",
    "    facilities. Which facilities (if any) will not be used? Does this\n",
    "    solution make sense?"
   ]
  },
  {
   "cell_type": "code",
   "execution_count": 21,
   "id": "f5a4fe02",
   "metadata": {},
   "outputs": [],
   "source": [
    "waste_model = Model(HiGHS.Optimizer) #initialize model object\n",
    "#create variables: amount of waste disposed, amount of residual, operational status \n",
    "@variable(waste_model, 0 <= W[1:3, 1:3] <= 1.0e10) #W is amount of waste from each city to each disposal plant\n",
    "@variable(waste_model, 0 <= R[1:3] <= 1.0e10) #R is the residual from MRF and WTE (MRF to LF, MRF to WTE, and WTE to LF)\n",
    "@variable(waste_model, Y[1:3], Bin) #Y is operational status of each plant\n",
    "\n",
    "#create objective function (profit function)\n",
    "@objective(waste_model, Min, 2000*Y[1]+1500*Y[2]+2500*Y[3]+57.5W[1]+72.5*W[2]+69.5*W[3]+68*W[4]+60.5*W[5]+90.5*W[6]+82.5*W[7]+75*W[8]+90*W[9]+98*R[1]+77*R[2]+82.5*R[3])\n",
    "\n",
    "#contraints for city waste production, capacity of each facility, residuals from MRF and WTE, and committment status\n",
    "@constraint(waste_model, cityone, W[1,1]+W[1,2]+W[1,3] == 100)\n",
    "@constraint(waste_model, citytwo, W[2,1]+W[2,2]+W[2,3] == 90)\n",
    "@constraint(waste_model, citythree, W[3,1]+W[3,2]+W[3,3] == 120)\n",
    "@constraint(waste_model, lfmax, W[1,1]+W[2,1]+W[3,1]+R[1]+R[2] <= 200)\n",
    "@constraint(waste_model, mrfmax, W[1,2]+W[2,2]+W[3,2] <= 350)\n",
    "@constraint(waste_model, wtemax, W[1,3]+W[2,3]+W[3,3]+R[3] <= 210)\n",
    "@constraint(waste_model, wteres, R[2]-0.16*(W[1,3]+W[2,3]+W[3,3])-0.14*R[3] == 0)\n",
    "@constraint(waste_model, mrfres, R[1]+R[3]-0.6*(W[1,2]+W[2,2]+W[3,2]) == 0)\n",
    "@constraint(waste_model, commit1, Y[1] == 1)\n",
    "@constraint(waste_model, commit2, !Y[2] => {W[1,2] + W[2,2] + W[3,2] == 0})\n",
    "@constraint(waste_model, commit3, !Y[3] => {W[1,3]+W[2,3]+W[3,3]+R[3] == 0});"
   ]
  },
  {
   "cell_type": "code",
   "execution_count": 22,
   "id": "6048b774",
   "metadata": {},
   "outputs": [
    {
     "name": "stdout",
     "output_type": "stream",
     "text": [
      "Running HiGHS 1.8.1 (git hash: 4a7f24ac6): Copyright (c) 2024 HiGHS under MIT licence terms\n",
      "Coefficient ranges:\n",
      "  Matrix [1e-01, 4e+10]\n",
      "  Cost   [6e+01, 2e+03]\n",
      "  Bound  [1e+00, 1e+10]\n",
      "  RHS    [1e+00, 4e+02]\n",
      "Presolving model\n",
      "11 rows, 16 cols, 41 nonzeros  0s\n",
      "8 rows, 13 cols, 35 nonzeros  0s\n",
      "8 rows, 13 cols, 35 nonzeros  0s\n",
      "\n",
      "Solving MIP model with:\n",
      "   8 rows\n",
      "   13 cols (2 binary, 0 integer, 0 implied int., 11 continuous)\n",
      "   35 nonzeros\n",
      "MIP-Timing:     0.00038 - starting analytic centre calculation\n",
      "\n",
      "Src: B => Branching; C => Central rounding; F => Feasibility pump; H => Heuristic; L => Sub-MIP;\n",
      "     P => Empty MIP; R => Randomized rounding; S => Solve LP; T => Evaluate node; U => Unbounded;\n",
      "     z => Trivial zero; l => Trivial lower; u => Trivial upper; p => Trivial point\n",
      "\n",
      "        Nodes      |    B&B Tree     |            Objective Bounds              |  Dynamic Constraints |       Work      \n",
      "Src  Proc. InQueue |  Leaves   Expl. | BestBound       BestSol              Gap |   Cuts   InLp Confl. | LpIters     Time\n",
      "\n",
      "         0       0         0   0.00%   2000            inf                  inf        0      0      0         0     0.0s\n",
      " S       0       0         0   0.00%   2000            27792.857143      92.80%        0      0      0         0     0.0s\n",
      "         0       0         0   0.00%   25952.899386    27792.857143       6.62%        0      0      0         6     0.0s\n",
      "         1       0         1 100.00%   27792.857143    27792.857143       0.00%       10      1      0         8     0.0s\n",
      "\n",
      "Solving report\n",
      "  Status            Optimal\n",
      "  Primal bound      27792.8571429\n",
      "  Dual bound        27792.8571429\n",
      "  Gap               0% (tolerance: 0.01%)\n",
      "  P-D integral      0.000125449983142\n",
      "  Solution status   feasible\n",
      "                    27792.8571429 (objective)\n",
      "                    0 (bound viol.)\n",
      "                    0 (int. viol.)\n",
      "                    0 (row viol.)\n",
      "  Timing            0.01 (total)\n",
      "                    0.00 (presolve)\n",
      "                    0.00 (solve)\n",
      "                    0.00 (postsolve)\n",
      "  Max sub-MIP depth 0\n",
      "  Nodes             1\n",
      "  Repair LPs        0 (0 feasible; 0 iterations)\n",
      "  LP iterations     8 (total)\n",
      "                    0 (strong br.)\n",
      "                    1 (separation)\n",
      "                    0 (heuristics)\n",
      "value.(W) = [100.0 0.0 0.0; -0.0 -0.0 90.0; 79.04761904761904 0.0 40.95238095238096]\n",
      "value.(R) = [0.0, 20.952380952380956, 0.0]\n",
      "value.(Y) = [1.0, -0.0, 1.0]\n",
      "value.(cityone) = 100.0\n",
      "value.(citytwo) = 90.0\n",
      "value.(citythree) = 120.0\n",
      "value.(lfmax) = 200.0\n",
      "value.(mrfmax) = 0.0\n",
      "value.(wtemax) = 130.95238095238096\n"
     ]
    }
   ],
   "source": [
    "optimize!(waste_model)\n",
    "@show value.(W)\n",
    "@show value.(R)\n",
    "@show value.(Y)\n",
    "@show value.(cityone)\n",
    "@show value.(citytwo)\n",
    "@show value.(citythree)\n",
    "@show value.(lfmax)\n",
    "@show value.(mrfmax)\n",
    "@show value.(wtemax);"
   ]
  },
  {
   "cell_type": "markdown",
   "id": "e6ee0563",
   "metadata": {},
   "source": [
    "![](4750hw5_figure.jpeg \"Waste Allocation Solution\")"
   ]
  },
  {
   "cell_type": "markdown",
   "id": "f38efdf6",
   "metadata": {},
   "source": [
    "### Homework 5 Writeup\n",
    "\n",
    "The problem objective is to minimize the cost for waste disposal from three cities given three disposal plants: landfill, materials recovery facility, and waste-to-energy. To do this, we created 3 arrays of variables where $W = $ amount of waste disposed, $R = $ the residual amount from waste disposal plants, and $Y = $ the operational status of each plant. $W$ is an array with 3 rows and 3 columns, where each row represents one of the 3 cities, and each column represents one of the 3 disposal methods so, for example, the amount of waste from city 1 going to the landfill is found at $W_{1,1}$. $R$ and $Y$ are both 1 by 3 arrays. In all of these variables, we include a non-negativity constraint as well as a maximum value for each of them. $W$ and $R$ cannot exceed ${10}^{10}$ and $Y$ is binary where 0 means the facility is not operating and 1 means a facility is operating.\n",
    "\n",
    "#### Objective\n",
    "Now that we have our variables and we know that we need to minimize costs, we have to create an objective function where all of our terms are in units of dollars. For $Y$, this means that we multiply the fixed cost for each plant by the operational status of the plant, since we only pay the fixed cost if the plant is running. Therefore, for the first part of the equation, we have derived $2000Y_1+1500Y_2+2500Y_3$. Next, we have to look at $W$. Here, the total cost takes into account the travel cost to each disposal site as well as the tipping cost for each disposal method, so for city 1 landfill disposal, for example, we get $(50 + 1.5(5))W[1,1]$. We also have to include recycling cost for MRF, so we muliply the recycling rate by the recycling cost. If we do this for each combination of city and plant we get: $(50 + 1.5(5)){W}_{1,1} + (50 + 1.5(15)){W}_{2,1} + (50 + 1.5(13)){W}_{3,1} + (7 + 0.4(40) + 1.5(30)){W}_{1,2} + (7 + 0.4(40) + 1.5(25)){W}_{2,2} + (7 + 0.4(40) + 1.5(45)){W}_{3,2} + (60 + 1.5(15)){W}_{1,3} + (60 + 1.5(10)){W}_{2,3} + (60 + 1.5(20)){W}_{1,3}$ We can simplify this to get $57.5W_1 + 72.5W_2 + 69.5W_3 + 68W_4 + 60.5W_5 + 90.5W_6 + 82.5W_7 + 75W_8 + 90W_9$. Finally, we need to account for the amount of residual waste that needs to be landfilled, which are in the variable $R$. Since only 40% of materials entering MRF can be recycled, that means 0.6*(the amount of waste from each city to MRF) must either go to the WTE or the landfill. $R1$ is the amount of MRF residual going to the WTE and $R3$ is the residual going to the landfill. Finally, $R2$ is the amount of ashes from the WTE that also end up in the landfill. They are accounted in the costs for each plant -- $R3$ and $R2$ are the residual amount that go to the landfill, so those amounts also have the $50 tipping cost. Similarly, the $60 tipping cost for WTE applies to $R1$.\n",
    "\n",
    "#### Constraints\n",
    "Once we have our objective function, we need to come up with our constraints. First, we are given the total waste produced by each city so we know that the 3 disposal methods for each city need to sum to the given totals. For city 1 we have ${W}_{1,1}+{W}_{1,2}+{W}_{1,3} = 100$, for city 2 we have ${W}_{2,1}+{W}_{2,2}+{W}_{2,3} = 90$, and for city 3 we have ${W}_{3,1}+{W}_{3,2}+{W}_{3,3} = 120$. We are also given maximum capacities for each disposal method, so we need the total waste disposed of at each plant to be less than or equal to the given quantities. For the landfill we have ${W}_{1,1}+{W}_{2,1}+{W}_{3,1} + R_1 + R_2 \\leq 100$, for the materials recycling facility we have ${W}_{1,2}+{W}_{2,2}+{W}_{3,2} \\leq 350$, and for the waste-to-energy facility we have ${W}_{1,3}+{W}_{2,3}+{W}_{3,3} + R_3 \\leq 210$. There are also two constraints for the amount of residual. Residuals from the MRF are equal to 60% waste input to the MRF, so $R_1+R_3=0.6*(W_{1,2}+W_{2,2}+W_{3,2})$. Then, the residual ashes from the WTE that must go to the landfill equals 16% non-recycled waste and 14% recycled waste, so $R_2=0.16*(W_{1,3}+W_{2,3}+W_{3,3})-0.14*R_3$. We also have committment constraints for each plant. Landfill waste is set to always be in operation with a commitment integer value of $Y_1 = 1$. The MRF plant is set to be operational ($Y_2=1$) only when the waste going toward that plant is nonzero. Similarly, the WTE plant is set to be operational only when the waste distributed to that plant summed with the residual from MRF is nonzero.\n",
    "\n",
    "#### Results\n",
    "After running the model, the results are shown in the diagram above. All of City 1's waste goes straight to the landfill and all of City 2's waste goes to the WTE. Most of City 3's waste goes to landfill (79.05 Mg/day) while some goes to WTE (40.95 Mg/day). No waste goes to the MRF, shown by its status $Y_2 = 0$, which makes sense because of the higher cost and farther distance from the three cities. Finally, 20.95 Mg/day of residuals from the WTE also go to the landfill. The results fill the landfill to full capacity and put whatever couldn't be landfilled to the WTE. This makes sense given the lower cost and close proximity to the three cities unlike the large distance of the cities from the MRF facility."
   ]
  },
  {
   "cell_type": "markdown",
   "id": "b6d659ee-115e-43c3-81d4-56c4aaf92fb7",
   "metadata": {},
   "source": [
    "## References\n",
    "\n",
    "List any external references consulted, including classmates."
   ]
  },
  {
   "cell_type": "markdown",
   "id": "a78872b5",
   "metadata": {},
   "source": [
    "#### References:\n",
    "\n",
    "To resolve domain error in the model, added boundaries to the variables based on a response from this thread on the Julia discourse page: https://discourse.julialang.org/t/indicator-constraints-in-iqp/107587\n",
    "\n",
    "This StackOverflow thread for inserting the figure image: https://stackoverflow.com/questions/10628262/inserting-image-into-ipython-notebook-markdown\n",
    "\n",
    "Julia Documentation (12/4 office hours): https://jump.dev/JuMP.jl/stable/manual/variables/#Binary-variables"
   ]
  }
 ],
 "metadata": {
  "kernel_info": {
   "name": "julia"
  },
  "kernelspec": {
   "display_name": "Julia 1.10.4",
   "language": "julia",
   "name": "julia-1.10"
  },
  "language_info": {
   "file_extension": ".jl",
   "mimetype": "application/julia",
   "name": "julia",
   "version": "1.10.4"
  }
 },
 "nbformat": 4,
 "nbformat_minor": 5
}
