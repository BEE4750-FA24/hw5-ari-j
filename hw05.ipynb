{
 "cells": [
  {
   "cell_type": "markdown",
   "id": "f25056fc-44dd-4baa-88ff-b2e879a9d2c4",
   "metadata": {},
   "source": [
    "# BEE 4750 Homework 5: Mixed Integer and Stochastic Programming\n",
    "\n",
    "**Name**: Jiaming Yuan (jy729), Ari Schor (aes392), Grace Raab (gar238)\n",
    "\n",
    "**ID**:\n",
    "\n",
    "> **Due Date**\n",
    ">\n",
    "> Thursday, 12/05/24, 9:00pm\n",
    "\n",
    "## Overview"
   ]
  },
  {
   "cell_type": "markdown",
   "id": "bdc61f0a-d224-4e85-9d0f-dc78118e17b2",
   "metadata": {},
   "source": [
    "### Instructions\n",
    "\n",
    "-   In Problem 1, you will use mixed integer programming to solve a\n",
    "    waste load allocation problem."
   ]
  },
  {
   "cell_type": "markdown",
   "id": "f28855a0-60d2-442e-b8ef-1ceaee826af6",
   "metadata": {},
   "source": [
    "### Load Environment\n",
    "\n",
    "The following code loads the environment and makes sure all needed\n",
    "packages are installed. This should be at the start of most Julia\n",
    "scripts."
   ]
  },
  {
   "cell_type": "code",
   "execution_count": 1,
   "id": "2",
   "metadata": {},
   "outputs": [
    {
     "name": "stderr",
     "output_type": "stream",
     "text": [
      "\u001b[32m\u001b[1m  Activating\u001b[22m\u001b[39m project at `~/Documents/Programming/Julia/BEE4750/hw/hw5-ari-j`\n",
      "\u001b[32m\u001b[1mPrecompiling\u001b[22m\u001b[39m project...\n",
      "\u001b[32m  ✓ \u001b[39m\u001b[90mLatexify → DataFramesExt\u001b[39m\n",
      "  1 dependency successfully precompiled in 2 seconds. 232 already precompiled.\n"
     ]
    }
   ],
   "source": [
    "import Pkg\n",
    "Pkg.activate(@__DIR__)\n",
    "Pkg.instantiate()"
   ]
  },
  {
   "cell_type": "code",
   "execution_count": 2,
   "id": "4",
   "metadata": {},
   "outputs": [],
   "source": [
    "using JuMP\n",
    "using HiGHS\n",
    "using DataFrames\n",
    "using GraphRecipes\n",
    "using Plots\n",
    "using Measures\n",
    "using MarkdownTables"
   ]
  },
  {
   "cell_type": "markdown",
   "id": "7cd4181d-a987-4e3a-8dad-cfdef5fb6270",
   "metadata": {},
   "source": [
    "## Problems (Total: 30 Points)\n",
    "\n",
    "### Problem 1 (30 points)\n",
    "\n",
    "Three cities are developing a coordinated municipal solid waste (MSW)\n",
    "disposal plan. Three disposal alternatives are being considered: a\n",
    "landfill (LF), a materials recycling facility (MRF), and a\n",
    "waste-to-energy facility (WTE). The capacities of these facilities and\n",
    "the fees for operation and disposal are provided below.\n",
    "\n",
    "-   **LF**: Capacity 200 Mg, fixed cost \\$2000/day, tipping cost\n",
    "    \\$50/Mg;\n",
    "-   **MRF**: Capacity 350 Mg, fixed cost \\$1500/day, tipping cost\n",
    "    \\$7/Mg, recycling cost \\$40/Mg recycled;\n",
    "-   **WTE**: Capacity 210 Mg, fixed cost \\$2500/day, tipping cost\n",
    "    \\$60/Mg;\n",
    "\n",
    "The MRF recycling rate is 40%, and the ash fraction of non-recycled\n",
    "waste is 16% and of recycled waste is 14%. Transportation costs are\n",
    "\\$1.5/Mg-km, and the relative distances between the cities and\n",
    "facilities are provided in the table below.\n",
    "\n",
    "| **City/Facility** | **Landfill (km)** | **MRF (km)** | **WTE (km)** |\n",
    "|:-----------------:|:-----------------:|:------------:|:------------:|\n",
    "|         1         |         5         |      30      |      15      |\n",
    "|         2         |        15         |      25      |      10      |\n",
    "|         3         |        13         |      45      |      20      |\n",
    "|        LF         |        \\-         |      32      |      18      |\n",
    "|        MRF        |        32         |      \\-      |      15      |\n",
    "|        WTE        |        18         |      15      |      \\-      |\n",
    "\n",
    "The fixed costs associated with the disposal options are incurred only\n",
    "if the particular disposal option is implemented. The three cities\n",
    "produce 100, 90, and 120 Mg/day of solid waste, respectively, with the\n",
    "composition provided in the table below.\n",
    "\n",
    "**Reminder**: Use `round(x; digits=n)` to report values to the\n",
    "appropriate precision!\n",
    "\n",
    "**In this problem**:\n",
    "\n",
    "-   Formulate the waste load allocation problem and implement it in\n",
    "    `JuMP`.\n",
    "-   Draw a diagram showing the flows of waste between the cities and the\n",
    "    facilities. Which facilities (if any) will not be used? Does this\n",
    "    solution make sense?"
   ]
  },
  {
   "cell_type": "code",
   "execution_count": 16,
   "id": "f5a4fe02",
   "metadata": {},
   "outputs": [],
   "source": [
    "waste_model = Model(HiGHS.Optimizer) #initialize model object\n",
    "#create variables: amount of waste disposed, amount recycled, operational status \n",
    "@variable(waste_model, 0 <= W[1:3, 1:3] <= 1.0e10) #W is amount of waste from each city to each disposal plant\n",
    "@variable(waste_model, 0 <= R[1:3] <= 1.0e10) #R is the amount recycled\n",
    "@variable(waste_model, 0 <= Y[1:3] <= 1) #Y is operational status of each plant\n",
    "\n",
    "#create objective function (profit function)\n",
    "@objective(waste_model, Min, 2000*Y[1]+1500*Y[2]+2500*Y[3]+57.5W[1]+72.5*W[2]+69.5*W[3]+68*W[4]+60.5*W[5]+90.5*W[6]+82.5*W[7]+75*W[8]+90*W[9]+98*R[1]+77*R[2]+82.5*R[3])\n",
    "\n",
    "#contraints for total area available, avg. rate of pesticide application and maximum total demand for each crop\n",
    "@constraint(waste_model, cityone, W[1,1]+W[1,2]+W[1,3] == 100)\n",
    "@constraint(waste_model, citytwo, W[2,1]+W[2,2]+W[2,3] == 90)\n",
    "@constraint(waste_model, citythree, W[3,1]+W[3,2]+W[3,3] == 120)\n",
    "@constraint(waste_model, lfmax, W[1,1]+W[2,1]+W[3,1]+R[1]+R[2] <= 200)\n",
    "@constraint(waste_model, mrfmax, W[1,2]+W[2,2]+W[3,2] <= 350)\n",
    "@constraint(waste_model, wtemax, W[1,3]+W[2,3]+W[3,3]+R[3] <= 210)\n",
    "@constraint(waste_model, wteres, R[2]-0.16*(W[1,3]+W[2,3]+W[3,3])-0.14*R[3] == 0)\n",
    "@constraint(waste_model, mrfres, R[1]+R[3]-0.6*(W[1,2]+W[2,2]+W[3,2]) == 0)\n",
    "@constraint(waste_model, commit1, Y[1] == 1)\n",
    "@constraint(waste_model, commit2, !Y[2] => {W[1,2] + W[2,2] + W[3,2] == 0})\n",
    "@constraint(waste_model, commit3, !Y[3] => {W[1,3]+W[2,3]+W[3,3]+R[3] == 0});"
   ]
  },
  {
   "cell_type": "code",
   "execution_count": 22,
   "id": "6048b774",
   "metadata": {},
   "outputs": [
    {
     "name": "stdout",
     "output_type": "stream",
     "text": [
      "Coefficient ranges:\n",
      "  Matrix [1e-01, 4e+10]\n",
      "  Cost   [6e+01, 2e+03]\n",
      "  Bound  [1e+00, 1e+10]\n",
      "  RHS    [1e+00, 4e+02]\n",
      "Solving LP without presolve, or with basis, or unconstrained\n",
      "Model status        : Optimal\n",
      "Objective value     :  2.5292857151e+04\n",
      "Relative P-D gap    :  0.0000000000e+00\n",
      "HiGHS run time      :          0.00\n",
      "value.(W) = [100.0 0.0 0.0; 0.0 -0.0 90.0; 79.04761904761904 0.0 40.95238095238096]\n",
      "value.(R) = [0.0, 20.952380952380956, 0.0]\n",
      "value.(Y) = [1.0, -0.0, 3.273809523809524e-9]\n",
      "value.(cityone) = 100.0\n",
      "value.(citytwo) = 90.0\n",
      "value.(citythree) = 120.0\n",
      "value.(lfmax) = 200.0\n",
      "value.(mrfmax) = 0.0\n",
      "value.(wtemax) = 130.95238095238096\n"
     ]
    }
   ],
   "source": [
    "optimize!(waste_model)\n",
    "@show value.(W)\n",
    "@show value.(R)\n",
    "@show value.(Y)\n",
    "@show value.(cityone)\n",
    "@show value.(citytwo)\n",
    "@show value.(citythree)\n",
    "@show value.(lfmax)\n",
    "@show value.(mrfmax)\n",
    "@show value.(wtemax);"
   ]
  },
  {
   "cell_type": "markdown",
   "metadata": {},
   "source": [
    "![](4750hw5_figure.jpeg \"Waste Allocation Solution\")"
   ]
  },
  {
   "cell_type": "markdown",
   "id": "f38efdf6",
   "metadata": {},
   "source": [
    "### Homework 5 Writeup\n",
    "\n",
    "The problem objective is to minimize the cost for waste disposal from three cities given three disposal plants: landfill, materials recovery facility, and waste-to-energy. \n",
    "\n",
    "..."
   ]
  },
  {
   "cell_type": "markdown",
   "id": "b6d659ee-115e-43c3-81d4-56c4aaf92fb7",
   "metadata": {},
   "source": [
    "## References\n",
    "\n",
    "List any external references consulted, including classmates."
   ]
  },
  {
   "cell_type": "markdown",
   "id": "a78872b5",
   "metadata": {},
   "source": [
    "#### References:\n",
    "\n",
    "To resolve domain error in the model, added boundaries to the variables based on a response from this thread on the Julia discourse page: https://discourse.julialang.org/t/indicator-constraints-in-iqp/107587"
   ]
  }
 ],
 "metadata": {
  "kernel_info": {
   "name": "julia"
  },
  "kernelspec": {
   "display_name": "Julia 1.10.4",
   "language": "julia",
   "name": "julia-1.10"
  },
  "language_info": {
   "file_extension": ".jl",
   "mimetype": "application/julia",
   "name": "julia",
   "version": "1.10.4"
  }
 },
 "nbformat": 4,
 "nbformat_minor": 5
}
